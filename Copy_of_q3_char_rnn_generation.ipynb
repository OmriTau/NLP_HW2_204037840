{
  "nbformat": 4,
  "nbformat_minor": 0,
  "metadata": {
    "accelerator": "GPU",
    "anaconda-cloud": {},
    "colab": {
      "name": "Copy of q3_char-rnn-generation.ipynb",
      "provenance": [],
      "collapsed_sections": []
    },
    "kernelspec": {
      "display_name": "Python 3",
      "language": "python",
      "name": "python3"
    },
    "language_info": {
      "codemirror_mode": {
        "name": "ipython",
        "version": 3
      },
      "file_extension": ".py",
      "mimetype": "text/x-python",
      "name": "python",
      "nbconvert_exporter": "python",
      "pygments_lexer": "ipython3",
      "version": "3.8.0"
    },
    "pycharm": {
      "stem_cell": {
        "cell_type": "raw",
        "metadata": {
          "collapsed": false
        },
        "source": []
      }
    }
  },
  "cells": [
    {
      "cell_type": "markdown",
      "metadata": {
        "id": "Pb5kKY6nHsEN"
      },
      "source": [
        "To begin copy this notebook to your own drive:\n",
        "\n",
        "![image.png](data:image/png;base64,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)\n",
        "\n"
      ]
    },
    {
      "cell_type": "markdown",
      "metadata": {
        "id": "XPKTqQ3W8qLt"
      },
      "source": [
        "### Submission Instructions:\n",
        "1. **Restart the kernel** (in the menubar, select Runtime$\\rightarrow$Restart runtime)\n",
        "2. **Run all cells** (in the menubar, select Runtime$\\rightarrow$Run All).\n",
        "3. **Download the notebook** (in the menubar, select File$\\rightarrow$Download .ipynb)\n",
        "4. **Upload the downloaded notebook (.ipynb file) to your repository**.\n",
        "\n",
        "Make sure you fill in any place that says `YOUR CODE HERE`, and that no tests fail.  "
      ]
    },
    {
      "cell_type": "markdown",
      "metadata": {
        "id": "XvPkt7Zm8qLt"
      },
      "source": [
        "![shakespeare](https://i.imgur.com/81YZuel.jpg)\n",
        "\n",
        "# Generating Shakespeare Using a Character-level Language Model\n",
        "\n",
        "### From Words to Characters\n",
        "In the previous two sections we dealt with word-level language models. But looking again at section 2, there is nothing that constraints us to using _words_ as the basic elemnents in our model. The model we analyzed in section 2 could just as well be character-based - just replace \"word\" with \"character\", and you are good to go. In this notebook we will train a small character-based language model that will help us generate Shakespearean-like (emphasis on the _like_...) texts."
      ]
    },
    {
      "cell_type": "markdown",
      "metadata": {
        "id": "EvGyr_ux8qLt"
      },
      "source": [
        "### Question 3.a\n",
        "Can you think of an advantage a character-based language model could have over a word-based language model? _(You might find question 2.c useful)_. And what about the other way around: can you think of an advantage a word-based language model could have over a character-based language model? (Add your answer to the final submission pdf)."
      ]
    },
    {
      "cell_type": "markdown",
      "metadata": {
        "id": "ghCevRFf8qLt"
      },
      "source": [
        "### Using PyTorch\n",
        "\n",
        "We'll build our language model using PyTorch. PyTorch is a [very popular](https://thegradient.pub/state-of-ml-frameworks-2019-pytorch-dominates-research-tensorflow-dominates-industry/) open-source machine learning (and deep learning) framework developed by Facebook. In short:\n",
        "\n",
        "> Pytorch is a Python-based scientific computing package targeted at two sets of audiences:\n",
        "* A replacement for NumPy to use the power of GPUs\n",
        "* A deep learning research platform that provides maximum flexibility and speed\n",
        "\n",
        "To get familiar with PyTorch, check out this [quick tutorial](https://pytorch.org/tutorials/beginner/blitz/tensor_tutorial.html). In addition, another imporant difference from numpy is that PyTorch can automatically calculate the gradients needed for backpropagation, as explained [here](https://pytorch.org/tutorials/beginner/blitz/autograd_tutorial.html)."
      ]
    },
    {
      "cell_type": "markdown",
      "metadata": {
        "id": "MYd79g6k8qLt"
      },
      "source": [
        "### Preparing the Data\n",
        "\n",
        "Our dataset is a plain text file. For simplicity, we turn any potential unicode characters into plain ASCII by using the `unidecode` package."
      ]
    },
    {
      "cell_type": "code",
      "metadata": {
        "colab": {
          "base_uri": "https://localhost:8080/"
        },
        "id": "OT5WdSbsFT1K",
        "outputId": "bc86ac84-65ea-40b5-9cc5-2c5c5ab2eccd"
      },
      "source": [
        "!pip install unidecode"
      ],
      "execution_count": 1,
      "outputs": [
        {
          "output_type": "stream",
          "text": [
            "Requirement already satisfied: unidecode in /usr/local/lib/python3.6/dist-packages (1.1.1)\n"
          ],
          "name": "stdout"
        }
      ]
    },
    {
      "cell_type": "code",
      "metadata": {
        "colab": {
          "base_uri": "https://localhost:8080/"
        },
        "id": "RYqFoQgV8qLt",
        "outputId": "53e6f5b3-e079-473b-d6a3-87fb163f091b"
      },
      "source": [
        "import string\n",
        "import random\n",
        "import re\n",
        "import requests\n",
        "import unidecode\n",
        "url = \"https://github.com/tau-nlp-course/NLP_HW2/raw/main/data/shakespeare.txt\"\n",
        "\n",
        "\n",
        "all_characters = string.printable\n",
        "n_characters = len(all_characters)  # our vocabulary size (|V| from the handout)\n",
        "\n",
        "dataset_as_string = unidecode.unidecode(requests.get(url).content.decode())\n",
        "n_chars_in_dataset = len(dataset_as_string)\n",
        "print(f'Total number of characters in our dataset: {n_chars_in_dataset}')"
      ],
      "execution_count": 2,
      "outputs": [
        {
          "output_type": "stream",
          "text": [
            "Total number of characters in our dataset: 1115394\n"
          ],
          "name": "stdout"
        }
      ]
    },
    {
      "cell_type": "markdown",
      "metadata": {
        "id": "mIctyT3J8qLu"
      },
      "source": [
        "To make inputs out of this big string of text, we will split it into chunks."
      ]
    },
    {
      "cell_type": "code",
      "metadata": {
        "colab": {
          "base_uri": "https://localhost:8080/"
        },
        "id": "eoLs0ivz8qLu",
        "outputId": "6067b046-3144-4cb1-d8ab-f4a11867ac78"
      },
      "source": [
        "chunk_len = 400\n",
        "\n",
        "def random_chunk():\n",
        "    start_index = random.randint(0, n_chars_in_dataset - chunk_len)\n",
        "    end_index = start_index + chunk_len + 1\n",
        "    return dataset_as_string[start_index:end_index]\n",
        "\n",
        "print(random_chunk())"
      ],
      "execution_count": 3,
      "outputs": [
        {
          "output_type": "stream",
          "text": [
            "e.\n",
            "\n",
            "BENVOLIO:\n",
            "Stop there, stop there.\n",
            "\n",
            "MERCUTIO:\n",
            "Thou desirest me to stop in my tale against the hair.\n",
            "\n",
            "BENVOLIO:\n",
            "Thou wouldst else have made thy tale large.\n",
            "\n",
            "MERCUTIO:\n",
            "O, thou art deceived; I would have made it short:\n",
            "for I was come to the whole depth of my tale; and\n",
            "meant, indeed, to occupy the argument no longer.\n",
            "\n",
            "ROMEO:\n",
            "Here's goodly gear!\n",
            "\n",
            "MERCUTIO:\n",
            "A sail, a sail!\n",
            "\n",
            "BENVOLIO:\n",
            "Two, two; a shirt\n"
          ],
          "name": "stdout"
        }
      ]
    },
    {
      "cell_type": "markdown",
      "metadata": {
        "id": "ho8WlUcV8qLv"
      },
      "source": [
        "### Building Our Model\n",
        "\n",
        "Our model consists of three main components:\n",
        "\n",
        "1. [**Embedding**](https://pytorch.org/docs/stable/nn.html#embedding). A mapping between characters and their learned representations (\"word vectors\") \\[correspoding to ${\\boldsymbol L}$ in terms of the handout\\]\n",
        "2. [**GRU**](https://pytorch.org/docs/stable/nn.html#gru). \\[correspoding to the computation of ${\\boldsymbol h}^{(t)}$ in terms of the handout\\]\n",
        "3. **Output Layer**. A feed-forward neural network that transforms a hidden state at a timestep into a probability distribution of the next character. \\[correspoding to the computation of $\\hat{\\boldsymbol y}^{(t)}$ in terms of the handout\\] "
      ]
    },
    {
      "cell_type": "markdown",
      "metadata": {
        "id": "KFm8g2pd8qLv"
      },
      "source": [
        "### Question 3.b\n",
        "Complete the implementation of the `forward` method of our model."
      ]
    },
    {
      "cell_type": "code",
      "metadata": {
        "id": "2SoCQ_ZM8qLv"
      },
      "source": [
        "import torch\n",
        "import torch.nn as nn\n",
        "from torch.autograd import Variable\n",
        "\n",
        "class OurModel(nn.Module):\n",
        "    def __init__(self, input_size, hidden_size, output_size, num_layers=1):\n",
        "        super(OurModel, self).__init__()\n",
        "        self.input_size = input_size\n",
        "        self.hidden_size = hidden_size\n",
        "        self.output_size = output_size\n",
        "        self.num_layers = num_layers\n",
        "        \n",
        "        self.embedding = nn.Embedding(input_size, hidden_size)  # In the terms of the handout, here d = D_h\n",
        "        self.gru = nn.GRU(hidden_size, hidden_size, num_layers)\n",
        "        self.output_layer = nn.Linear(hidden_size, output_size)\n",
        "    \n",
        "    def forward(self, input_, hidden):\n",
        "        # General instructions:\n",
        "        # Pass the embedded input through the GRU and use the output layer to get the next character distribution.\n",
        "        # return that distribution and the next hidden state.\n",
        "        # You may need to play around with the dimensions a bit until you get it right. Dimension-induced frustration is good for you!\n",
        "        # -------------------------\n",
        "        # YOUR CODE HERE\n",
        "        # print(input_)\n",
        "        input_ = torch.LongTensor([[input_]])\n",
        "        x = self.embedding(input_)\n",
        "        # print('Embeded')\n",
        "        # print(x.shape)\n",
        "\n",
        "        x, hidden = self.gru(x, hidden)\n",
        "        # print('GRU x')\n",
        "        # print(x.shape)\n",
        "        # print('GRU hidden')\n",
        "        # print(hiddden.shape)\n",
        "        # x = x.view(-1, x.size(2))\n",
        "        # print('View x')\n",
        "        # print(x.shape)\n",
        "        output = self.output_layer(x)\n",
        "        output = output.view(-1, output.size(2))\n",
        "\n",
        "        # print('Output')\n",
        "        # print(output.shape)\n",
        "\n",
        "        # -------------------------\n",
        "        return output, hidden\n",
        "\n",
        "    def init_hidden(self):\n",
        "        return Variable(torch.zeros(self.num_layers, 1, self.hidden_size))"
      ],
      "execution_count": 4,
      "outputs": []
    },
    {
      "cell_type": "markdown",
      "metadata": {
        "id": "aZWMbY1o8qLv"
      },
      "source": [
        "### Creating the Training Examples"
      ]
    },
    {
      "cell_type": "markdown",
      "metadata": {
        "id": "B-ngTV6Q8qLv"
      },
      "source": [
        "Each chunk will be turned into a tensor by looping through the characters of the string and looking up the index of each character in `all_characters`."
      ]
    },
    {
      "cell_type": "code",
      "metadata": {
        "colab": {
          "base_uri": "https://localhost:8080/"
        },
        "id": "98wyNtkw8qLv",
        "outputId": "38978ac5-e0b8-4a7d-8c28-48e398ec20f6"
      },
      "source": [
        "# Turn a string into list of longs\n",
        "def chars_to_tensor(string):\n",
        "    tensor = torch.zeros(len(string)).long()\n",
        "    for c in range(len(string)):\n",
        "        tensor[c] = all_characters.index(string[c])\n",
        "    return Variable(tensor)\n",
        "\n",
        "print(chars_to_tensor('abcDEF'))"
      ],
      "execution_count": 5,
      "outputs": [
        {
          "output_type": "stream",
          "text": [
            "tensor([10, 11, 12, 39, 40, 41])\n"
          ],
          "name": "stdout"
        }
      ]
    },
    {
      "cell_type": "markdown",
      "metadata": {
        "id": "cYh_R1K88qLv"
      },
      "source": [
        "Now we can assemble a pair of input and target tensors (i.e. a single training example) for training, from a random chunk. The input will be all characters *except the last*, and the target will be all characters *except the first*. So if our chunk is \"abc\" the input will correspond to \"ab\" while the target is \"bc\"."
      ]
    },
    {
      "cell_type": "code",
      "metadata": {
        "id": "QFDYhW3a8qLv"
      },
      "source": [
        "def random_training_set():    \n",
        "    chunk = random_chunk()\n",
        "    inp = chars_to_tensor(chunk[:-1])\n",
        "    target = chars_to_tensor(chunk[1:])\n",
        "    return inp, target"
      ],
      "execution_count": 6,
      "outputs": []
    },
    {
      "cell_type": "markdown",
      "metadata": {
        "id": "eU6VTX8F8qLv"
      },
      "source": [
        "### Evaluating\n",
        "\n",
        "To evaluate the network we will feed one character at a time, use the outputs of the network as a probability distribution for the next character, and repeat. To start generation we pass a priming string to start building up the hidden state, from which we then generate one character at a time."
      ]
    },
    {
      "cell_type": "code",
      "metadata": {
        "id": "xeoACNc78qLv"
      },
      "source": [
        "import torch.nn.functional as F\n",
        "\n",
        "def evaluate(prime_str='A', predict_len=100, temperature=0.8):\n",
        "    hidden = model.init_hidden()\n",
        "    prime_input = chars_to_tensor(prime_str)\n",
        "    predicted = prime_str\n",
        "\n",
        "    # Use priming string to \"build up\" hidden state\n",
        "    for p in range(len(prime_str) - 1):\n",
        "        _, hidden = model(prime_input[p], hidden)\n",
        "    inp = prime_input[-1]\n",
        "    \n",
        "    for p in range(predict_len):\n",
        "        output, hidden = model(inp, hidden)\n",
        "        \n",
        "        # Sample from the network as a multinomial distribution\n",
        "        output_dist =  F.softmax(output / temperature, dim=-1)\n",
        "        top_i = torch.multinomial(output_dist, 1)[0]\n",
        "        \n",
        "        # Add predicted character to string and use as next input\n",
        "        predicted_char = all_characters[top_i]\n",
        "        predicted += predicted_char\n",
        "        inp = chars_to_tensor(predicted_char)\n",
        "\n",
        "    return predicted"
      ],
      "execution_count": 7,
      "outputs": []
    },
    {
      "cell_type": "markdown",
      "metadata": {
        "id": "iNmsUvyM8qLv"
      },
      "source": [
        "### Training"
      ]
    },
    {
      "cell_type": "markdown",
      "metadata": {
        "id": "AiCVg5Ec8qLv"
      },
      "source": [
        "The main training function"
      ]
    },
    {
      "cell_type": "code",
      "metadata": {
        "id": "Wug0q2Me8qLv"
      },
      "source": [
        "def train(inp, target):\n",
        "    hidden = model.init_hidden()\n",
        "    model.zero_grad()\n",
        "    loss = 0\n",
        "\n",
        "    for c in range(chunk_len):\n",
        "        output, hidden = model(inp[c], hidden)\n",
        "        loss += criterion(output, target[c].view(-1))\n",
        "\n",
        "    loss.backward()\n",
        "    optimizer.step()\n",
        "\n",
        "    return loss.item() / chunk_len"
      ],
      "execution_count": 8,
      "outputs": []
    },
    {
      "cell_type": "markdown",
      "metadata": {
        "id": "hFBSiQqS8qLv"
      },
      "source": [
        "A helper to print the amount of time passed:"
      ]
    },
    {
      "cell_type": "code",
      "metadata": {
        "id": "vIzUAL-a8qLv"
      },
      "source": [
        "import time, math\n",
        "\n",
        "def time_since(since):\n",
        "    s = time.time() - since\n",
        "    m = math.floor(s / 60)\n",
        "    s -= m * 60\n",
        "    return f'{m}m {math.floor(s)}s'"
      ],
      "execution_count": 9,
      "outputs": []
    },
    {
      "cell_type": "code",
      "metadata": {
        "id": "pAlXhasn8qLv"
      },
      "source": [
        "# DO NOT DELETE THIS CELL\n"
      ],
      "execution_count": 10,
      "outputs": []
    },
    {
      "cell_type": "markdown",
      "metadata": {
        "id": "0Xva5o5I8qLv"
      },
      "source": [
        "Define the training parameters, instantiate the model, and start training:"
      ]
    },
    {
      "cell_type": "code",
      "metadata": {
        "colab": {
          "base_uri": "https://localhost:8080/"
        },
        "id": "pRLHP-UQ8qLw",
        "outputId": "1790f5c2-41d8-45e0-bf78-7559c8f2c2a2"
      },
      "source": [
        "n_epochs = 2000\n",
        "print_every = 100\n",
        "plot_every = 10\n",
        "hidden_size = 100  # (D_h from the handout)\n",
        "num_layers = 1\n",
        "lr = 0.005\n",
        "\n",
        "model = OurModel(n_characters, hidden_size, n_characters, num_layers)\n",
        "optimizer = torch.optim.Adam(model.parameters(), lr=lr)\n",
        "criterion = nn.CrossEntropyLoss()\n",
        "\n",
        "start = time.time()\n",
        "all_losses = []\n",
        "loss_avg = 0\n",
        "\n",
        "for epoch in range(1, n_epochs + 1):\n",
        "    loss = train(*random_training_set())\n",
        "    loss_avg += loss\n",
        "\n",
        "    if epoch % print_every == 0:\n",
        "        print(f'[time elapsed: {time_since(start)}  ;  epochs: {epoch} ({epoch / n_epochs * 100}%)  ;  loss: {loss:.4}]')\n",
        "        print(evaluate('Wh', 200), '\\n')  # generate text starting with 'Wh'\n",
        "\n",
        "    if epoch % plot_every == 0:\n",
        "        all_losses.append(loss_avg / plot_every)\n",
        "        loss_avg = 0"
      ],
      "execution_count": 11,
      "outputs": [
        {
          "output_type": "stream",
          "text": [
            "[time elapsed: 0m 28s  ;  epochs: 100 (5.0%)  ;  loss: 2.058]\n",
            "Whard and in we thot tou hean prar hewh dies raord eno.\n",
            "\n",
            "HGOLGROINT:\n",
            "Wish ood havem.\n",
            "Thind no shert tha wy frild we thay wir ssordh shis bould tyert four taver sof mat ther thoue on be beart: noiss sa t \n",
            "\n",
            "[time elapsed: 0m 58s  ;  epochs: 200 (10.0%)  ;  loss: 1.971]\n",
            "Whou the hour, that; that mist ath thing? The.\n",
            "The what fo to fellous tenders feath haith marte,\n",
            "What---\n",
            "All doiy the\n",
            "Theene and so shach my ust histry ke my beeat aigh, borf Whanto!\n",
            "\n",
            "Thers Bestle curig \n",
            "\n",
            "[time elapsed: 1m 27s  ;  epochs: 300 (15.0%)  ;  loss: 1.88]\n",
            "Wh mander ofris repion, pleghy wee calle and we you crugerurmess?\n",
            "\n",
            "KADING ELING BAUnd I we heard theal youss.\n",
            "\n",
            "KING LARINCET:\n",
            "I no me my were that all there. I word tepens.\n",
            "\n",
            "MENENATA:\n",
            "I pratice, I withe \n",
            "\n",
            "[time elapsed: 1m 56s  ;  epochs: 400 (20.0%)  ;  loss: 2.058]\n",
            "Whis peans afule do do may,\n",
            "That the hope day, infauld mounk year ichy.\n",
            "\n",
            "RUCIUS:\n",
            "I the wrang the play pion! well sould on for sy one do nor the cry:\n",
            "O such on such I not them':\n",
            "I from to up you have mus \n",
            "\n",
            "[time elapsed: 2m 25s  ;  epochs: 500 (25.0%)  ;  loss: 1.746]\n",
            "Wht low he have\n",
            "They the this lingevay is the ourness you the hath Mive!\n",
            "\n",
            "GLOUS:\n",
            "Whis he prewardond,\n",
            "To right to trubjuctitest as hemer not dow,\n",
            "The by thear you will like to swear in.\n",
            "\n",
            "TRINA:\n",
            "Hive sill \n",
            "\n",
            "[time elapsed: 2m 53s  ;  epochs: 600 (30.0%)  ;  loss: 1.96]\n",
            "Why\n",
            "come.\n",
            "\n",
            "CPTIUS:\n",
            "You need theed, of Good my kneed and son,\n",
            "Yet sace But going me her sicted to be chis comes,\n",
            "But to we dead in thee my knot, and my come the criles,\n",
            "Yen metten, on this kind shant tha \n",
            "\n",
            "[time elapsed: 3m 21s  ;  epochs: 700 (35.0%)  ;  loss: 1.828]\n",
            "Whing?\n",
            "\n",
            "SICINIUS:\n",
            "See death in it is to with presing pongy to lest lest\n",
            "The shamp thou were lont thee rester fengland; Barder good speart thou calink\n",
            "Ting wondus there words death fing done the\n",
            "thy 'lie \n",
            "\n",
            "[time elapsed: 3m 49s  ;  epochs: 800 (40.0%)  ;  loss: 1.788]\n",
            "Whats! what is the sore in the wears.\n",
            "So make strown my bound,\n",
            "Ay the with mere hatk your with,\n",
            "He with one as it with suching with-semought of\n",
            "Sain is ot himple and our the hould you ut.\n",
            "\n",
            "KING RICHARD  \n",
            "\n",
            "[time elapsed: 4m 17s  ;  epochs: 900 (45.0%)  ;  loss: 2.006]\n",
            "Whis thee good the kinds mysend thee\n",
            "In the expies we the make there goan with have to riegh.\n",
            "\n",
            "BUPKINGA:\n",
            "She ending the this all my our truings;\n",
            "And the duntorneve did warder were leve deach of the\n",
            "Do w \n",
            "\n",
            "[time elapsed: 4m 45s  ;  epochs: 1000 (50.0%)  ;  loss: 1.865]\n",
            "Why burtaloal at the great\n",
            "Which here you sair, yes know to sconould?\n",
            "\n",
            "WARD IV:\n",
            "Shimper the with you liveghty.\n",
            "\n",
            "Seatty: and con:\n",
            "Wat a po re command excer:\n",
            "I come and man kee han is to ampaich\n",
            "And to Wa \n",
            "\n",
            "[time elapsed: 5m 14s  ;  epochs: 1100 (55.00000000000001%)  ;  loss: 1.82]\n",
            "Wheer, have exifly gread.\n",
            "\n",
            "KING HENRY VI:\n",
            "You gugreath of I telved, Heartho nemes,\n",
            "Who desere; with till it deathing have woll,\n",
            "Or here hay Paugsor, and pears.\n",
            "\n",
            "GLOUCESTER:\n",
            "Now here, I are have in have  \n",
            "\n",
            "[time elapsed: 5m 43s  ;  epochs: 1200 (60.0%)  ;  loss: 1.762]\n",
            "What ever this ursed the it do\n",
            "This princemest than know in Latend at then:\n",
            "But call aptilg so be what hee this gening mety wils it be him the,\n",
            "That plemine a chintens to come.\n",
            "\n",
            "Call we rest-mother my h \n",
            "\n",
            "[time elapsed: 6m 11s  ;  epochs: 1300 (65.0%)  ;  loss: 1.744]\n",
            "Wher faredess, be in a stparre\n",
            "Your be end but not, the verarted be not and her father:\n",
            "Go ten broth and sower, cereed againt one,\n",
            "You brapinam, in the noves,\n",
            "All me: why, with he be worthy\n",
            "conver ere,  \n",
            "\n",
            "[time elapsed: 6m 39s  ;  epochs: 1400 (70.0%)  ;  loss: 1.504]\n",
            "What not that,\n",
            "That in that thrend ten and the to as rested be of that not and.\n",
            "\n",
            "DUKE VINCENTIO:\n",
            "The, thou commort then they to that dead and me.\n",
            "\n",
            "DUKE VINCENTIO:\n",
            "Some the gread in the runters very well \n",
            "\n",
            "[time elapsed: 7m 7s  ;  epochs: 1500 (75.0%)  ;  loss: 1.791]\n",
            "What son ever\n",
            "The penought's of juman:\n",
            "Are; and hourse is are your tonky lord,\n",
            "Alp to my son of lawed becasure an from mord,\n",
            "To the could them some; your are and chope ear me,\n",
            "As his so, wo sould anothe \n",
            "\n",
            "[time elapsed: 7m 35s  ;  epochs: 1600 (80.0%)  ;  loss: 1.803]\n",
            "Whing the be not him\n",
            "seen, this upon your to here recete,\n",
            "Whou like purch your part the berefor of it is my life.\n",
            "\n",
            "KING MARGARET:\n",
            "O, bear, bear: her lime not hised\n",
            "The site it done to flan,\n",
            "That it hath \n",
            "\n",
            "[time elapsed: 8m 2s  ;  epochs: 1700 (85.0%)  ;  loss: 1.754]\n",
            "What resed of to grace:\n",
            "I dizes bedowe, should days her not, I griann\n",
            "hat he give to marsion a siles,--\n",
            "\n",
            "DUKE\n",
            "SCORD IO:\n",
            "I my blood siles,\n",
            "So be and have and fatching dound me in so,\n",
            "And shall bettel I s \n",
            "\n",
            "[time elapsed: 8m 28s  ;  epochs: 1800 (90.0%)  ;  loss: 1.471]\n",
            "What is this not land of my cition,\n",
            "So made hast Sable be with eath honour York.\n",
            "\n",
            "Sith:\n",
            "For him lead could his won it the iness good, and sees will toin better and.\n",
            "\n",
            "PETRUCHIO:\n",
            "O denoldst has them partu \n",
            "\n",
            "[time elapsed: 8m 55s  ;  epochs: 1900 (95.0%)  ;  loss: 1.659]\n",
            "Where be not,\n",
            "If dion my real.\n",
            "\n",
            "MIRG:\n",
            "I say were before say bear be them.\n",
            "\n",
            "KINGS:\n",
            "Call not no ress in the Treator no life.\n",
            "Your be now my say this ring the stay.\n",
            "\n",
            "PAUSI OF:\n",
            "Yet seal since, becent me alo \n",
            "\n",
            "[time elapsed: 9m 22s  ;  epochs: 2000 (100.0%)  ;  loss: 1.687]\n",
            "Whing thebesence the to you sabled:\n",
            "Thy say the chark Julge, thou conourtion; were say,\n",
            "A metity, true the wanter of the hour soul, the oncan, and for so;\n",
            "The not do the very from for it with you unnigh \n",
            "\n"
          ],
          "name": "stdout"
        }
      ]
    },
    {
      "cell_type": "markdown",
      "metadata": {
        "id": "dXeVkk298qLw"
      },
      "source": [
        "### Training Loss\n",
        "\n",
        "Plotting the the losses that were computed during training can provide a further indication that the network was indeed learning (Add your plot to the final submission pdf)."
      ]
    },
    {
      "cell_type": "code",
      "metadata": {
        "colab": {
          "base_uri": "https://localhost:8080/",
          "height": 318
        },
        "id": "S2SZanbV8qLw",
        "outputId": "c33afd80-a0be-47ba-85f9-3b3595884d6f"
      },
      "source": [
        "import matplotlib.pyplot as plt\n",
        "%matplotlib inline\n",
        "\n",
        "plt.grid(True)\n",
        "plt.xlabel('# of epochs (divided by plot_every)')\n",
        "plt.ylabel('average loss')\n",
        "plt.plot(all_losses)"
      ],
      "execution_count": 12,
      "outputs": [
        {
          "output_type": "execute_result",
          "data": {
            "text/plain": [
              "[<matplotlib.lines.Line2D at 0x7fce032d68d0>]"
            ]
          },
          "metadata": {
            "tags": []
          },
          "execution_count": 12
        },
        {
          "output_type": "display_data",
          "data": {
            "image/png": "[encoded data removed]",
            "text/plain": [
              "<Figure size 432x288 with 1 Axes>"
            ]
          },
          "metadata": {
            "tags": [],
            "needs_background": "light"
          }
        }
      ]
    }
  ]
}